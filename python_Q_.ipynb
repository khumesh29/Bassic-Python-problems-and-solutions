{
  "nbformat": 4,
  "nbformat_minor": 0,
  "metadata": {
    "colab": {
      "provenance": []
    },
    "kernelspec": {
      "name": "python3",
      "display_name": "Python 3"
    },
    "language_info": {
      "name": "python"
    }
  },
  "cells": [
    {
      "cell_type": "code",
      "execution_count": null,
      "metadata": {
        "colab": {
          "base_uri": "https://localhost:8080/"
        },
        "id": "gAGi6On0Tzog",
        "outputId": "e501fda1-5566-4c05-c209-eaa5832e539c"
      },
      "outputs": [
        {
          "output_type": "stream",
          "name": "stdout",
          "text": [
            "8\n",
            "not eligible to vote\n"
          ]
        }
      ],
      "source": [
        "# 1.) Program who takes input as age and tells whether you are eligible to vote or not ?\n",
        "\n",
        "x = int(input())\n",
        "def age(x):\n",
        "    if x > 18:\n",
        "        print(\"eligible to vote\")\n",
        "    else:\n",
        "        print(\"not eligible to vote\")\n",
        "\n",
        "age(x)"
      ]
    },
    {
      "cell_type": "code",
      "source": [
        "#2.) Program to find larger number entered by user\n",
        "\n",
        "l1 = list(map(int, input().split())) # enter the no.s by giving space between them\n",
        "l1.sort()\n",
        "l1[-1]"
      ],
      "metadata": {
        "colab": {
          "base_uri": "https://localhost:8080/"
        },
        "id": "nG4AIwyYT1Y_",
        "outputId": "8328468e-a7e6-49e4-dea5-548ebcda2bf5"
      },
      "execution_count": null,
      "outputs": [
        {
          "name": "stdout",
          "output_type": "stream",
          "text": [
            "45 3 67\n"
          ]
        },
        {
          "output_type": "execute_result",
          "data": {
            "text/plain": [
              "67"
            ]
          },
          "metadata": {},
          "execution_count": 2
        }
      ]
    },
    {
      "cell_type": "code",
      "source": [
        "# 3(a).) Program to find the average of entered numbers entered by a user?\n",
        "\n",
        "l2 = list(map(int, input().split()))  # you can  enter  several inputs in single bar by giving spaces between them\n",
        "avg = (sum(l2)) / (len(l2))\n",
        "print(avg)\n",
        "#sum(l2)"
      ],
      "metadata": {
        "id": "1fnTgNXrV0QV",
        "colab": {
          "base_uri": "https://localhost:8080/"
        },
        "outputId": "643b8e09-599c-4e9d-a534-4de13ff98b25"
      },
      "execution_count": null,
      "outputs": [
        {
          "output_type": "stream",
          "name": "stdout",
          "text": [
            "124\n",
            "124.0\n"
          ]
        }
      ]
    },
    {
      "cell_type": "code",
      "source": [
        "9# 3(b).) Program to find the average of two numbers entered by a user?\n",
        "x = int(input(\"enter first no.:\"))\n",
        "y = int(input(\"enter second no.:\"))\n",
        "z = (x+y) / 2\n",
        "z"
      ],
      "metadata": {
        "colab": {
          "base_uri": "https://localhost:8080/"
        },
        "id": "g-wJLzFNYxWG",
        "outputId": "9aecb9b0-0188-4e0d-bbf7-dcdab5deb4a5"
      },
      "execution_count": null,
      "outputs": [
        {
          "name": "stdout",
          "output_type": "stream",
          "text": [
            "enter first no.:8\n",
            "enter second no.:99\n"
          ]
        },
        {
          "output_type": "execute_result",
          "data": {
            "text/plain": [
              "53.5"
            ]
          },
          "metadata": {},
          "execution_count": 4
        }
      ]
    },
    {
      "cell_type": "code",
      "source": [
        "# 4(a).)  Program to calculate Square entered by User .\n",
        "\n",
        "x = (int(input()))**2\n",
        "x"
      ],
      "metadata": {
        "id": "NTO-dks5aItY",
        "colab": {
          "base_uri": "https://localhost:8080/"
        },
        "outputId": "6a70293f-0926-4730-f128-3c46ab92ed22"
      },
      "execution_count": null,
      "outputs": [
        {
          "name": "stdout",
          "output_type": "stream",
          "text": [
            "8\n"
          ]
        },
        {
          "output_type": "execute_result",
          "data": {
            "text/plain": [
              "64"
            ]
          },
          "metadata": {},
          "execution_count": 5
        }
      ]
    },
    {
      "cell_type": "code",
      "source": [
        "# 4(b).)  Program to calculate Square entered by User .\n",
        "\n",
        "import math\n",
        "y = pow(int(input()), 2)\n",
        "y"
      ],
      "metadata": {
        "colab": {
          "base_uri": "https://localhost:8080/"
        },
        "id": "hKbRNPFQat7N",
        "outputId": "f9fca624-e786-4d4d-9522-351880bc2b6f"
      },
      "execution_count": null,
      "outputs": [
        {
          "name": "stdout",
          "output_type": "stream",
          "text": [
            "98\n"
          ]
        },
        {
          "output_type": "execute_result",
          "data": {
            "text/plain": [
              "9604"
            ]
          },
          "metadata": {},
          "execution_count": 6
        }
      ]
    },
    {
      "cell_type": "code",
      "source": [
        "# 5.) Program to display User entered name using Input() followed by “Good Afternoon”.\n",
        "\n",
        "name = input()\n",
        "print(\"good afternoon: \",name)\n"
      ],
      "metadata": {
        "colab": {
          "base_uri": "https://localhost:8080/"
        },
        "id": "p3bxXTfBcSvm",
        "outputId": "c2660765-9b3a-42e6-f3d5-0c8ef0a218e9"
      },
      "execution_count": null,
      "outputs": [
        {
          "output_type": "stream",
          "name": "stdout",
          "text": [
            "khumesh\n",
            "good afternoon:  khumesh\n"
          ]
        }
      ]
    },
    {
      "cell_type": "code",
      "source": [
        "# 6.) Program to detect double Spaces in a User entered String if yes then replace it with single space.\n",
        "x = input()\n",
        "if \"  \" in x:\n",
        "  print(True)\n",
        "  y = x.replace(\"  \", \" \")  # replacing double  space with single space\n",
        "  print(y)\n",
        "else:\n",
        "  print(False)\n",
        "  print(x)\n"
      ],
      "metadata": {
        "id": "CBCR5CmUc_Bt",
        "colab": {
          "base_uri": "https://localhost:8080/"
        },
        "outputId": "f2968ebd-9f1f-4f21-ef57-d4834ed39f91"
      },
      "execution_count": null,
      "outputs": [
        {
          "output_type": "stream",
          "name": "stdout",
          "text": [
            "machine learning is   love\n",
            "True\n",
            "machine learning is  love\n"
          ]
        }
      ]
    },
    {
      "cell_type": "code",
      "source": [
        "# 7.) Program to format below code using escape sequence Characters.\n",
        "# “Dear Sir Python is very amazing Programming language.Please share more Questions like this Thank you”\n",
        "\n",
        "x =(\"Dear Sir \\nPython is very amazing Programming language. \\nPlease share more Questions like this Thank you\")   # by putting \\n we can do this process\n",
        "print(x)"
      ],
      "metadata": {
        "id": "OmWHAVoMeVpq",
        "colab": {
          "base_uri": "https://localhost:8080/"
        },
        "outputId": "91ceca02-2608-48b9-f7a7-46396743f96d"
      },
      "execution_count": null,
      "outputs": [
        {
          "output_type": "stream",
          "name": "stdout",
          "text": [
            "Dear Sir \n",
            "Python is very amazing Programming language. \n",
            "Please share more Questions like this Thank you\n"
          ]
        }
      ]
    },
    {
      "cell_type": "code",
      "source": [
        "# 8.) Program to store 7 names of your friends entered by User .\n",
        "l = []\n",
        "for  i in range(7):\n",
        "  if i<7:\n",
        "    x = input()         # by applying loop it will take input 7 times\n",
        "    l.append(x)\n",
        "    i+=1\n",
        "l"
      ],
      "metadata": {
        "id": "2Q48H394eZOn",
        "colab": {
          "base_uri": "https://localhost:8080/"
        },
        "outputId": "10baab17-b361-4800-e98b-8fbecfaec5aa"
      },
      "execution_count": null,
      "outputs": [
        {
          "name": "stdout",
          "output_type": "stream",
          "text": [
            "kp\n",
            "rud\n",
            "asees\n",
            "fazo\n",
            "kv\n",
            "deepak\n",
            "mahak\n"
          ]
        },
        {
          "output_type": "execute_result",
          "data": {
            "text/plain": [
              "['kp', 'rud', 'asees', 'fazo', 'kv', 'deepak', 'mahak']"
            ]
          },
          "metadata": {},
          "execution_count": 10
        }
      ]
    },
    {
      "cell_type": "code",
      "source": [
        "# 9.) Program to accept Marks of 4 students entered by user and display them in sorted Way ( in ascending order).\n",
        "\n",
        "l1 = []\n",
        "for i in range(4):\n",
        "    if i<4:\n",
        "      x = int(input())\n",
        "      l1.append(x)\n",
        "      l1.sort()\n",
        "      i+=1\n",
        "l1"
      ],
      "metadata": {
        "colab": {
          "base_uri": "https://localhost:8080/"
        },
        "id": "1X9AxPbQpyF1",
        "outputId": "922a2cd9-c21b-4b21-d024-f6efda47274a"
      },
      "execution_count": null,
      "outputs": [
        {
          "name": "stdout",
          "output_type": "stream",
          "text": [
            "67\n",
            "78\n",
            "87\n",
            "99\n"
          ]
        },
        {
          "output_type": "execute_result",
          "data": {
            "text/plain": [
              "[67, 78, 87, 99]"
            ]
          },
          "metadata": {},
          "execution_count": 17
        }
      ]
    },
    {
      "cell_type": "code",
      "source": [
        "# 10.) Program to save heights of 10 students in tuple and then change the height of 3rd student.\n",
        "t1 = tuple(map(int, input().split()))     #taking input tuple form\n",
        "if len(t1)==10:\n",
        "  x = list(t1)       # conversion of tuple into list\n",
        "  x[2] = 4           # changing 3rd element\n",
        "  t1 = tuple(x)      # conversion of list into tuple\n",
        "  print(t1)\n",
        "else:\n",
        "  print(\"firstly enter all the 10 heights\")\n"
      ],
      "metadata": {
        "id": "a1TP0t29taZY",
        "colab": {
          "base_uri": "https://localhost:8080/"
        },
        "outputId": "ef91b573-47eb-41b2-82c4-c2e8ac94eeb1"
      },
      "execution_count": null,
      "outputs": [
        {
          "output_type": "stream",
          "name": "stdout",
          "text": [
            "7236\n",
            "firstly enter all the 10 heights\n"
          ]
        }
      ]
    },
    {
      "cell_type": "code",
      "source": [
        "#  11(a). Program to calculate sum of first N natural numbers by **for loop**.\n",
        "\n",
        "def nsum(n):\n",
        "  sum = 0\n",
        "  for i in range(1,n+1):\n",
        "    if i<=n:\n",
        "      sum = sum +i\n",
        "      i=+1\n",
        "  return sum\n",
        "\n",
        "nsum(5)"
      ],
      "metadata": {
        "id": "hdRE2gQZoxtz"
      },
      "execution_count": null,
      "outputs": []
    },
    {
      "cell_type": "code",
      "source": [
        "# 11(b). Program to calculate sum of first N natural numbers by **while loop**.\n",
        "\n",
        "def nsum(x):\n",
        "  sum = 1\n",
        "  while x>1:\n",
        "    sum = sum+x\n",
        "    x-=1\n",
        "  return sum\n",
        "\n",
        "nsum(10)"
      ],
      "metadata": {
        "id": "-BpaT110L6kn"
      },
      "execution_count": null,
      "outputs": []
    },
    {
      "cell_type": "code",
      "source": [
        "# 12.) Program to calculate teen ager students in list.\n",
        "l1 = [11,9,14,18,15,16,20,13,16,17,13,18,0]\n",
        "for i in l1:\n",
        "  if 12 < i < 20:\n",
        "   print(i, end=\" \")"
      ],
      "metadata": {
        "id": "5m-0EK_qc8np"
      },
      "execution_count": null,
      "outputs": []
    },
    {
      "cell_type": "code",
      "source": [
        "# 13.) Program to calculate sum of elements of list having value less than 10.\n",
        "l1 = []\n",
        "t1 = list(map(int, input().split()))\n",
        "for i in t1:\n",
        "  if i <10:\n",
        "    l1.append(i)\n",
        "print(sum(l1))\n"
      ],
      "metadata": {
        "id": "dfGY--fiOX1m"
      },
      "execution_count": null,
      "outputs": []
    },
    {
      "cell_type": "code",
      "source": [
        "# 14.) Program to check whether an entered username is 10 characters long or not.\n",
        "\n",
        "x = input()\n",
        "if len(x)==10:\n",
        "  print(\"username have 10 characters\")\n",
        "else:\n",
        "  print(\"username don't have 10 characters\")"
      ],
      "metadata": {
        "id": "WJ22CvgbTesy"
      },
      "execution_count": null,
      "outputs": []
    },
    {
      "cell_type": "code",
      "source": [
        "# 15.) A mail is defined as spam if it contains any from the below keywords. Write a program to check if text entered by a user is spam or not.\n",
        "#spam_words=[“make a lot of money”, “buy now” , “subscribe this” , “Click this”, “you Won” ,”Discount” ,”Coupan”]\n",
        "\n",
        "spam_words=[\"make a lot of money\", \"buy now\" , \"subscribe this\" , \"click this\", \"you Won\" ,\"discount\" ,\"coupon\"]\n",
        "mail = input().lower()   # converting the  input into lower case\n",
        "def check(mail):\n",
        "  flag = False\n",
        "  for word in spam_words:\n",
        "    if word in mail:\n",
        "      flag = True\n",
        "      break\n",
        "    else:\n",
        "      flag = False\n",
        "\n",
        "  if(flag == True):\n",
        "    print(\"Spam\")\n",
        "  else:\n",
        "    print(\"text entered is not a spam\")\n",
        "\n",
        "check(mail)"
      ],
      "metadata": {
        "id": "5mXdyxqKn5KI"
      },
      "execution_count": null,
      "outputs": []
    },
    {
      "cell_type": "code",
      "source": [
        "# 16.) check wheather the given student is in college or not\n",
        "\n",
        "x =[\"khumesh\",\"rudransh\"]\n",
        "name=input()\n",
        "def check(name):\n",
        "  if (name in x):\n",
        "    print(name, \"in cp\")\n",
        "  elif (name in x):\n",
        "    print(name, \"in modi\")\n",
        "  else:\n",
        "    print(name, \"in any other college\")\n",
        "check(name)\n"
      ],
      "metadata": {
        "id": "kmy1GdjObd52",
        "colab": {
          "base_uri": "https://localhost:8080/"
        },
        "outputId": "d7a63fc2-3832-45f3-abd7-5405e13f8d92"
      },
      "execution_count": 1,
      "outputs": [
        {
          "output_type": "stream",
          "name": "stdout",
          "text": [
            "khumesh\n",
            "khumesh in cp\n"
          ]
        }
      ]
    },
    {
      "cell_type": "code",
      "source": [
        "# 17.) Program to print table of a number in reversed order.\n",
        "\n",
        "n = int(input())\n",
        "for i in reversed(range(1,11)):\n",
        "  x = n*i\n",
        "  print(n,\"*\",i,\"=\",x)"
      ],
      "metadata": {
        "id": "OozaLCR3wCVv"
      },
      "execution_count": null,
      "outputs": []
    },
    {
      "cell_type": "code",
      "source": [],
      "metadata": {
        "id": "quT2-mpDXvon"
      },
      "execution_count": null,
      "outputs": []
    },
    {
      "cell_type": "code",
      "source": [],
      "metadata": {
        "id": "zPAd1J_LXvsL"
      },
      "execution_count": null,
      "outputs": []
    },
    {
      "cell_type": "code",
      "source": [
        "# 18.)Create two programs to print a table of user entered number using while and for loop.\n",
        "n = int(input())\n",
        "\n",
        "# a) by for loop\n",
        "print(\"  \\nby for loop\")\n",
        "for i in range(1,11):\n",
        "  x = n*i\n",
        "  print(n,\"*\",i,\"=\",x)\n",
        "\n",
        "# b) by for loop\n",
        "print (\"  \\nby while loop\")\n",
        "y = 1\n",
        "while y<=10:\n",
        "  z = n*y\n",
        "  print(n,\"*\",y,\"=\",z)\n",
        "  y+=1"
      ],
      "metadata": {
        "id": "a4c5fmAL2lbZ"
      },
      "execution_count": null,
      "outputs": []
    },
    {
      "cell_type": "code",
      "source": [
        "# 19.) Program to check whether a entered K_ID is valid or Not. Valid means exist in Our Database\n",
        "n = int(input(\"no. of kids: \"))\n",
        "kid = []\n",
        "for  i in range(n):\n",
        "  if i<n:\n",
        "    y = (input(\"kid:\"))\n",
        "    kid.append(y)\n",
        "    i+=1\n",
        "print(kid)\n",
        "x = input(\"check this kid in dataset: \")\n",
        "def valid(x):\n",
        "  flag = False\n",
        "  for i in kid:\n",
        "    if i in x:\n",
        "     flag = True\n",
        "     break\n",
        "    else:\n",
        "      flag = False\n",
        "  if (flag==True):\n",
        "    print(\"kid is valid\")\n",
        "  else:\n",
        "    print(\"kid is not valid\")\n",
        "valid(x)"
      ],
      "metadata": {
        "id": "YJTY7eBemnhT"
      },
      "execution_count": null,
      "outputs": []
    },
    {
      "cell_type": "code",
      "source": [
        "# 20.) Program to take 10 numbers input and display only distinct elements\n",
        "s = {}\n",
        "s1 = set(s)\n",
        "for  i in range(10):\n",
        "  if i<10:\n",
        "    x = input()\n",
        "    s1.add(x)\n",
        "    i+=1\n",
        "s1\n"
      ],
      "metadata": {
        "id": "37i0oDNmpVls"
      },
      "execution_count": null,
      "outputs": []
    },
    {
      "cell_type": "code",
      "source": [
        "# 21.) Program to find out whether a student is overall pass or fail. His marks in 5 subjects entered by the user.\n",
        "#To pass in each subject he must score 33%.To overall pass he must pass in all subjects and total marks in all subjects greater than 40%.\n",
        "#Maximum marks in each subject is 100.\n",
        "marks = []\n",
        "for  i in range(1,6):\n",
        "  x = int(input(f\"marks of sub: {i}  \"))\n",
        "  marks.append(x)\n",
        "\n",
        "q = (sum(marks)/500)*100\n",
        "maximum_marks = 100\n",
        "c = []\n",
        "for i in marks:\n",
        "  y = (i/maximum_marks)*100\n",
        "  if y > 33:\n",
        "    print(\"student pass in particular sub of marks:\",i)\n",
        "    c.append(i)\n",
        "  else:\n",
        "    print(\"student fail in particular sub of marks:\",i)\n",
        "print(\"list of no. of marks for which the student is pass:\",c)\n",
        "if len(c)==5:\n",
        "  print(\"overall % of the student: \",q,\"%\")\n",
        "  if q>=40:\n",
        "    print(\"student is overall pass\")\n",
        "  else:\n",
        "    print(\"student is overall fail\")\n",
        "\n",
        "elif len(c)<5:\n",
        "  print(\"overall % of the student: \",q,\"%\")\n",
        "  print(\" because of not pass in all the subjects, student is overall fail\")"
      ],
      "metadata": {
        "id": "2-f5W9zAfk_W"
      },
      "execution_count": null,
      "outputs": []
    },
    {
      "cell_type": "code",
      "source": [
        "# 22.) Program to create a dictionary with keys=name in English and value = Meaning of name.\n",
        "x = {}\n",
        "y = input(\"name:\")\n",
        "z = input(\"meaning of name:\")\n",
        "x[y] = z\n",
        "print(x)"
      ],
      "metadata": {
        "id": "G5gOkpIGH08W"
      },
      "execution_count": null,
      "outputs": []
    },
    {
      "cell_type": "code",
      "source": [
        "# 23.) Program to print first 10 prime numbers whose module with 5 is 2.\n",
        "result = []\n",
        "\n",
        "# making function for prime no.\n",
        "def is_prime(y):\n",
        "  flag = False\n",
        "  if y==2:\n",
        "    flag=True\n",
        "  else:\n",
        "    for i in range(2,y):\n",
        "        if (y%i==0):\n",
        "            flag=False\n",
        "            break\n",
        "        else:\n",
        "          flag=True\n",
        "  return flag\n",
        "\n",
        "# giving the condition module with 5 is 2.\n",
        "n=[]\n",
        "i=0\n",
        "while (len(n)<10):\n",
        "  if(is_prime(i) and (i%5==2)):\n",
        "    n.append(i)\n",
        "  i=i+1\n",
        "print(n)\n"
      ],
      "metadata": {
        "id": "qfzfeeJdWX1u"
      },
      "execution_count": null,
      "outputs": []
    },
    {
      "cell_type": "code",
      "source": [
        "# 24.) factorial by while  loop\n",
        "\n",
        "def factorial(x):\n",
        "  prod = 1\n",
        "  while x>1:\n",
        "    prod = prod*x\n",
        "    x-=1\n",
        "  return prod\n",
        "\n",
        "factorial(7)\n"
      ],
      "metadata": {
        "id": "EVhmMPQrm2P1"
      },
      "execution_count": null,
      "outputs": []
    },
    {
      "cell_type": "code",
      "source": [
        "#25.) factorial by for loop\n",
        "\n",
        "def factorial(x):\n",
        "  prod = 1\n",
        "  for i in range(1,x+1):\n",
        "    prod = prod*i\n",
        "\n",
        "  return prod\n",
        "\n",
        "factorial(16)"
      ],
      "metadata": {
        "id": "YYCbwAGQnM5L"
      },
      "execution_count": null,
      "outputs": []
    },
    {
      "cell_type": "code",
      "source": [
        "# 26.) factorial by recurssion\n",
        "\n",
        "def fac(n):\n",
        "  if n==0 or n==1:\n",
        "      return 1\n",
        "  else:\n",
        "      return n*fac(n-1)\n",
        "\n",
        "fac(6)"
      ],
      "metadata": {
        "id": "HoLONS44nfcL"
      },
      "execution_count": null,
      "outputs": []
    },
    {
      "cell_type": "code",
      "source": [
        " # 27.) repeated addision of descending values\n",
        "\n",
        "def nsum(x):\n",
        "  sum = 1\n",
        "  while x>1:\n",
        "    sum = sum+x\n",
        "    x-=1\n",
        "  return sum\n",
        "\n",
        "nsum(10)"
      ],
      "metadata": {
        "id": "VPyiXLuhm_u1"
      },
      "execution_count": null,
      "outputs": []
    },
    {
      "cell_type": "code",
      "source": [
        "# 28.) to find wheather it is leap year or not\n",
        "\n",
        "def is_leap(year):\n",
        "    leap = False\n",
        "\n",
        "    if year%400==0:\n",
        "        leap = True\n",
        "    elif ((year%100!=0) and (year%4==0)):\n",
        "        leap  = True\n",
        "\n",
        "    return leap\n",
        "\n",
        "year = int(input())\n",
        "print(is_leap(year))\n"
      ],
      "metadata": {
        "id": "l5xiV-6-nJag"
      },
      "execution_count": null,
      "outputs": []
    },
    {
      "cell_type": "code",
      "source": [
        "# 29.) fubbonacci  series by  while loop\n",
        "leng = int(input())\n",
        "x = 0\n",
        "y = 1\n",
        "itr = 0\n",
        "while itr<=leng:\n",
        "    print(x, end=',')\n",
        "    sum = x+y\n",
        "    x = y\n",
        "    y = sum\n",
        "    itr+=1\n"
      ],
      "metadata": {
        "id": "j7mBngFqoowm"
      },
      "execution_count": null,
      "outputs": []
    },
    {
      "cell_type": "code",
      "source": [
        "# 30.) right angled triangle of '*'\n",
        "def rt(r):\n",
        "    for x in range(r):\n",
        "        print('*'*(x+1),)\n",
        "rt(5)"
      ],
      "metadata": {
        "id": "45VinCOd8TJY"
      },
      "execution_count": null,
      "outputs": []
    },
    {
      "cell_type": "code",
      "source": [
        "# 31.) isoscelous triangle of '*'\n",
        "def pyfun(x):\n",
        "    for i in range(x):\n",
        "        print(' '*(x-i-1) + '*'*(2*i+1))\n",
        "pyfun(5)"
      ],
      "metadata": {
        "id": "NUfFTBti_dyr"
      },
      "execution_count": null,
      "outputs": []
    },
    {
      "cell_type": "code",
      "source": [],
      "metadata": {
        "id": "gx2WWo7a_mf8"
      },
      "execution_count": null,
      "outputs": []
    }
  ]
}